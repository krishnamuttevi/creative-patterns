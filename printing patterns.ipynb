{
 "cells": [
  {
   "cell_type": "code",
   "execution_count": 4,
   "id": "9d5635d5-4147-425f-85a0-a46318337efc",
   "metadata": {},
   "outputs": [
    {
     "name": "stdin",
     "output_type": "stream",
     "text": [
      "gimme number 5\n"
     ]
    },
    {
     "name": "stdout",
     "output_type": "stream",
     "text": [
      "*****\n",
      "*****\n",
      "*****\n",
      "*****\n",
      "*****\n"
     ]
    }
   ],
   "source": [
    "n=int(input('gimme number'))\n",
    "for i in range(n):\n",
    "    print('*'*n,end='\\n')"
   ]
  },
  {
   "cell_type": "code",
   "execution_count": 8,
   "id": "d1426ccc-ba1e-4ec4-93fd-d7a8dd02c08f",
   "metadata": {},
   "outputs": [
    {
     "name": "stdin",
     "output_type": "stream",
     "text": [
      "gimme number 5\n"
     ]
    },
    {
     "name": "stdout",
     "output_type": "stream",
     "text": [
      "\n",
      "*\n",
      "**\n",
      "***\n",
      "****\n",
      "*****\n"
     ]
    }
   ],
   "source": [
    "n=int(input('gimme number'))\n",
    "for i in range(n+1):\n",
    "    print('*'*i,end='\\n')"
   ]
  },
  {
   "cell_type": "code",
   "execution_count": 30,
   "id": "93ed5f0e-6594-44a3-83eb-6c00d26dc567",
   "metadata": {},
   "outputs": [
    {
     "name": "stdin",
     "output_type": "stream",
     "text": [
      "gimme number 5\n"
     ]
    },
    {
     "name": "stdout",
     "output_type": "stream",
     "text": [
      "1\n",
      "12\n",
      "123\n",
      "1234\n",
      "12345\n"
     ]
    }
   ],
   "source": [
    "n=int(input('gimme number'))\n",
    "for i in range(1,n+1):\n",
    "    for j in range(i):\n",
    "        print(f'{j+1}',end='')\n",
    "    print('')"
   ]
  },
  {
   "cell_type": "code",
   "execution_count": 10,
   "id": "449f16d3-b2ef-4ff8-9066-878efffc62ce",
   "metadata": {},
   "outputs": [
    {
     "name": "stdin",
     "output_type": "stream",
     "text": [
      "gimme number 5\n"
     ]
    },
    {
     "name": "stdout",
     "output_type": "stream",
     "text": [
      "\n",
      "1\n",
      "22\n",
      "333\n",
      "4444\n",
      "55555\n"
     ]
    }
   ],
   "source": [
    "n=int(input('gimme number'))\n",
    "for i in range(n+1):\n",
    "    print(f'{i}'*i,end='\\n')"
   ]
  },
  {
   "cell_type": "code",
   "execution_count": 32,
   "id": "4b68d980-7ebe-4fff-92ec-8c317f631b0b",
   "metadata": {},
   "outputs": [
    {
     "name": "stdin",
     "output_type": "stream",
     "text": [
      "gimme number 5\n"
     ]
    },
    {
     "name": "stdout",
     "output_type": "stream",
     "text": [
      "*****\n",
      "****\n",
      "***\n",
      "**\n",
      "*\n"
     ]
    }
   ],
   "source": [
    "n=int(input('gimme number'))\n",
    "for i in range(n,0,-1):\n",
    "    print('*'*i,end='\\n')"
   ]
  },
  {
   "cell_type": "code",
   "execution_count": 38,
   "id": "8abc724e-ba31-4b3c-86f8-6205b8b52b6d",
   "metadata": {},
   "outputs": [
    {
     "name": "stdin",
     "output_type": "stream",
     "text": [
      "gimme number 5\n"
     ]
    },
    {
     "name": "stdout",
     "output_type": "stream",
     "text": [
      "12345\n",
      "1234\n",
      "123\n",
      "12\n",
      "1\n"
     ]
    }
   ],
   "source": [
    "n=int(input('gimme number'))\n",
    "for i in range(n,0,-1):\n",
    "    for j in range(i):\n",
    "        print(f'{j+1}',end='')\n",
    "    print('')"
   ]
  },
  {
   "cell_type": "code",
   "execution_count": 86,
   "id": "03da83ea-81f6-4027-b35e-77e8fcbabf71",
   "metadata": {},
   "outputs": [
    {
     "name": "stdin",
     "output_type": "stream",
     "text": [
      "gimme number 5\n"
     ]
    },
    {
     "name": "stdout",
     "output_type": "stream",
     "text": [
      "     *\n",
      "    ***\n",
      "   *****\n",
      "  *******\n",
      " *********\n"
     ]
    }
   ],
   "source": [
    "n=int(input('gimme number'))\n",
    "for i in range(1,n+1):\n",
    "    print(' '*(n-i),'*'*i,end='')\n",
    "    print('*'*(i-1))\n",
    "\n",
    "\n",
    "another='''    \n",
    "n=int(input('gimme number'))\n",
    "for i in range(n,0,-1):\n",
    "    for j in range(n+1):\n",
    "        if j>=i:\n",
    "            print('*',end='')\n",
    "        else:\n",
    "            print(' ',end='')\n",
    "    for k in range(0,n-i):\n",
    "        print('*',end='')\n",
    "    print('')  \n",
    "'''"
   ]
  },
  {
   "cell_type": "code",
   "execution_count": 88,
   "id": "6318bb31-caf7-41bf-9c12-9c142b60af96",
   "metadata": {},
   "outputs": [
    {
     "name": "stdin",
     "output_type": "stream",
     "text": [
      "gimme number 5\n"
     ]
    },
    {
     "name": "stdout",
     "output_type": "stream",
     "text": [
      "*********\n",
      " *******\n",
      "  *****\n",
      "   ***\n",
      "    *\n"
     ]
    }
   ],
   "source": [
    "n=int(input('gimme number'))\n",
    "for i in range(n,0,-1):\n",
    "    print(' '*(n-i),'*'*(i),end='')\n",
    "    print('*'*(i-1))\n",
    "    #print(' ' * (n - i) + '*' * (2 * i - 1)) even better\n",
    "    \n"
   ]
  },
  {
   "cell_type": "code",
   "execution_count": 98,
   "id": "588beb37-0d1c-45d9-bcb7-cea8e18a3d91",
   "metadata": {},
   "outputs": [
    {
     "name": "stdin",
     "output_type": "stream",
     "text": [
      "gimme number 5\n"
     ]
    },
    {
     "name": "stdout",
     "output_type": "stream",
     "text": [
      "     *\n",
      "    ***\n",
      "   *****\n",
      "  *******\n",
      " *********\n",
      " *********\n",
      "  *******\n",
      "   *****\n",
      "    ***\n",
      "     *\n"
     ]
    }
   ],
   "source": [
    "n=int(input('gimme number'))\n",
    "for i in range(1,n+1):\n",
    "    print(' '*(n-i),'*'*(2*i- 1))\n",
    "for j in range(n,0,-1):\n",
    "    print(' '*(n-j),'*'*(2*j-1))"
   ]
  },
  {
   "cell_type": "code",
   "execution_count": 110,
   "id": "5cd76bf6-0a61-43fc-862a-0938b77ce9a4",
   "metadata": {},
   "outputs": [
    {
     "name": "stdin",
     "output_type": "stream",
     "text": [
      "gimme number 5\n"
     ]
    },
    {
     "name": "stdout",
     "output_type": "stream",
     "text": [
      "*\n",
      "**\n",
      "***\n",
      "****\n",
      "*****\n",
      "****\n",
      "***\n",
      "**\n",
      "*\n"
     ]
    }
   ],
   "source": [
    "n=int(input('gimme number'))\n",
    "for i in range(1,n+1):\n",
    "    print('*'*i)\n",
    "for j in range(n-1,0,-1):\n",
    "    print('*'*j)"
   ]
  },
  {
   "cell_type": "code",
   "execution_count": 118,
   "id": "d443e0d4-7c44-49b8-9a87-2d067a18fdd9",
   "metadata": {},
   "outputs": [
    {
     "name": "stdin",
     "output_type": "stream",
     "text": [
      "gimme number 5\n"
     ]
    },
    {
     "name": "stdout",
     "output_type": "stream",
     "text": [
      "1\n",
      "01\n",
      "101\n",
      "0101\n",
      "10101\n"
     ]
    }
   ],
   "source": [
    "n=int(input('gimme number'))\n",
    "for i in range(n):\n",
    "    for j in range(i+1):\n",
    "        if (i+j)%2!=0:\n",
    "            print('0',end='')\n",
    "        else:\n",
    "            print('1',end='')\n",
    "    print('')  "
   ]
  },
  {
   "cell_type": "code",
   "execution_count": 132,
   "id": "66a59560-e2eb-442d-bfeb-f574902a61e2",
   "metadata": {},
   "outputs": [
    {
     "name": "stdin",
     "output_type": "stream",
     "text": [
      "gimme number 5\n"
     ]
    },
    {
     "name": "stdout",
     "output_type": "stream",
     "text": [
      "1        1\n",
      "12      21\n",
      "123    321\n",
      "1234  4321\n",
      "1234554321\n"
     ]
    }
   ],
   "source": [
    "n=int(input('gimme number'))\n",
    "for i in range(1,n+1):\n",
    "    for j in range(1,i+1):\n",
    "        print(j,end='')\n",
    "    print(' '*(2*(n-i)),end='')\n",
    "    for k in range(i,0,-1):\n",
    "        print(k,end='')\n",
    "    print('')    "
   ]
  },
  {
   "cell_type": "code",
   "execution_count": 140,
   "id": "a11fb3f6-4cec-4d08-ac14-c823af501d7a",
   "metadata": {},
   "outputs": [
    {
     "name": "stdin",
     "output_type": "stream",
     "text": [
      "gimme number 5\n"
     ]
    },
    {
     "name": "stdout",
     "output_type": "stream",
     "text": [
      "1 \n",
      "2 3 \n",
      "4 5 6 \n",
      "7 8 9 10 \n",
      "11 12 13 14 15 \n"
     ]
    }
   ],
   "source": [
    "n=int(input('gimme number'))\n",
    "sum=0\n",
    "for i in range(n):\n",
    "    for j in range(i+1):\n",
    "        sum+=1 \n",
    "        print(sum,end=' ')\n",
    "    print('')\n",
    "\n",
    "\n",
    "another=\"\"\"\n",
    "n = int(input('gimme number: '))\n",
    "counter = 1\n",
    "for i in range(1, n + 1):\n",
    "    print(' '.join(str(counter + j) for j in range(i)))\n",
    "    counter += i\n",
    "\"\"\"\n",
    "    \n",
    "    "
   ]
  },
  {
   "cell_type": "code",
   "execution_count": 150,
   "id": "3c56cfa7-dea9-48ff-b1f2-8178a9f1737e",
   "metadata": {},
   "outputs": [
    {
     "name": "stdin",
     "output_type": "stream",
     "text": [
      "gimme a symbol E\n"
     ]
    },
    {
     "name": "stdout",
     "output_type": "stream",
     "text": [
      "A\n",
      "AB\n",
      "ABC\n",
      "ABCD\n",
      "ABCDE\n"
     ]
    }
   ],
   "source": [
    "n=(input('gimme a symbol'))\n",
    "for i in range(ord('A'),ord(n)+1):\n",
    "    for j in range(ord('A'),i+1):\n",
    "        print(chr(j),end='')\n",
    "    print('')\n",
    "    \n",
    "\n"
   ]
  },
  {
   "cell_type": "code",
   "execution_count": 154,
   "id": "9cc7a171-5b79-4b4b-a5c2-409a36777f91",
   "metadata": {},
   "outputs": [
    {
     "name": "stdin",
     "output_type": "stream",
     "text": [
      "gimme a symbol E\n"
     ]
    },
    {
     "name": "stdout",
     "output_type": "stream",
     "text": [
      "ABCDE\n",
      "ABCD\n",
      "ABC\n",
      "AB\n",
      "A\n"
     ]
    }
   ],
   "source": [
    "n=(input('gimme a symbol'))\n",
    "for i in range(ord(n),ord('A')-1,-1):\n",
    "    for j in range(ord('A'),i+1):\n",
    "        print(chr(j),end='')\n",
    "    print('')"
   ]
  },
  {
   "cell_type": "code",
   "execution_count": 164,
   "id": "b76e1700-8ae0-48d6-a1ea-bb6cf1a97216",
   "metadata": {},
   "outputs": [
    {
     "name": "stdin",
     "output_type": "stream",
     "text": [
      "gimme a symbol E\n"
     ]
    },
    {
     "name": "stdout",
     "output_type": "stream",
     "text": [
      "A\n",
      "BB\n",
      "CCC\n",
      "DDDD\n",
      "EEEEE\n"
     ]
    }
   ],
   "source": [
    "n=(input('gimme a symbol'))\n",
    "for i in range(ord('A'),ord(n)+1):\n",
    "    print(chr(i)*(i-ord('A')+1))"
   ]
  },
  {
   "cell_type": "code",
   "execution_count": 188,
   "id": "5c90bf9b-ef2b-432c-8ab9-ad20b0863b6b",
   "metadata": {},
   "outputs": [
    {
     "name": "stdin",
     "output_type": "stream",
     "text": [
      "gimme a symbol D\n"
     ]
    },
    {
     "name": "stdout",
     "output_type": "stream",
     "text": [
      "   A\n",
      "  ABA\n",
      " ABCBA\n",
      "ABCDCBA\n"
     ]
    }
   ],
   "source": [
    "n=(input('gimme a symbol'))\n",
    "for i in range(ord('A'),ord(n)+1):\n",
    "    print(' '*(ord(n)-i),end='')\n",
    "    for j in range(ord('A'),i+1):\n",
    "        print(chr(j),end='')\n",
    "    for k in range(i,ord('A'),-1):\n",
    "        print(chr(k-1),end='')\n",
    "    print('')\n",
    "        "
   ]
  },
  {
   "cell_type": "code",
   "execution_count": 196,
   "id": "3b372f19-8555-4072-9d5e-7d22299b5fa5",
   "metadata": {},
   "outputs": [
    {
     "name": "stdin",
     "output_type": "stream",
     "text": [
      "gimme a symbol E\n"
     ]
    },
    {
     "name": "stdout",
     "output_type": "stream",
     "text": [
      "E\n",
      "DE\n",
      "CDE\n",
      "BCDE\n",
      "ABCDE\n"
     ]
    }
   ],
   "source": [
    "n=(input('gimme a symbol'))\n",
    "for i in range(ord(n),ord('A')-1,-1):\n",
    "    for j in range(i,ord(n)+1,+1):\n",
    "        print(chr(j),end='')\n",
    "    print('')\n",
    "        "
   ]
  },
  {
   "cell_type": "code",
   "execution_count": 276,
   "id": "f4ae3714-f5f3-4753-b1bd-f67a3f0cc3ee",
   "metadata": {},
   "outputs": [
    {
     "name": "stdin",
     "output_type": "stream",
     "text": [
      "gimme a number 5\n"
     ]
    },
    {
     "name": "stdout",
     "output_type": "stream",
     "text": [
      "**********\n",
      "****  ****\n",
      "***    ***\n",
      "**      **\n",
      "*        *\n",
      "*        *\n",
      "**      **\n",
      "***    ***\n",
      "****  ****\n",
      "**********\n"
     ]
    }
   ],
   "source": [
    "n=int(input('gimme a number'))\n",
    "for i in range(0,n):\n",
    "    print('*'*(n-i),' '*(2*i),'*'*(n-i),sep='')\n",
    "for i in range(1,n+1):\n",
    "    print('*'*(i),' '*(2*(n-i)),'*'*(i),sep='')"
   ]
  },
  {
   "cell_type": "code",
   "execution_count": 298,
   "id": "fb3e6643-52cc-46e8-9718-7aaa328d76c6",
   "metadata": {},
   "outputs": [
    {
     "name": "stdin",
     "output_type": "stream",
     "text": [
      "gimme a number 5\n"
     ]
    },
    {
     "name": "stdout",
     "output_type": "stream",
     "text": [
      "*        *\n",
      "**      **\n",
      "***    ***\n",
      "****  ****\n",
      "**********\n",
      "****  ****\n",
      "***    ***\n",
      "**      **\n",
      "*        *\n"
     ]
    }
   ],
   "source": [
    "n=int(input('gimme a number'))\n",
    "for i in range(1,n+1):\n",
    "    print('*'*i,' '*(2*(n-i)),'*'*i,sep='')\n",
    "for j in range(n,1,-1):\n",
    "    print('*'*(j-1),' '*(2*(n-j+1)),'*'*(j-1),sep='')  "
   ]
  },
  {
   "cell_type": "code",
   "execution_count": 306,
   "id": "f7d154b7-ff47-4c2d-93b3-80f1833d2f09",
   "metadata": {},
   "outputs": [
    {
     "name": "stdin",
     "output_type": "stream",
     "text": [
      "gimme a number 4\n"
     ]
    },
    {
     "name": "stdout",
     "output_type": "stream",
     "text": [
      "****\n",
      "*  *\n",
      "*  *\n",
      "****\n"
     ]
    }
   ],
   "source": [
    "n=int(input('gimme a number'))\n",
    "for i in range(n,0,-1):\n",
    "    if i == n or i == 1:\n",
    "        print('*'*n)\n",
    "    else:\n",
    "        print('*',' '*(n-2),'*',sep='')\n"
   ]
  },
  {
   "cell_type": "code",
   "execution_count": 342,
   "id": "6b716026-8b52-4080-83ae-1744894d9b15",
   "metadata": {},
   "outputs": [
    {
     "name": "stdin",
     "output_type": "stream",
     "text": [
      "gimme a number 4\n"
     ]
    },
    {
     "data": {
      "text/plain": [
       "array([[4, 4, 4, 4, 4, 4, 4],\n",
       "       [4, 3, 3, 3, 3, 3, 4],\n",
       "       [4, 3, 2, 2, 2, 3, 4],\n",
       "       [4, 3, 2, 1, 2, 3, 4],\n",
       "       [4, 3, 2, 2, 2, 3, 4],\n",
       "       [4, 3, 3, 3, 3, 3, 4],\n",
       "       [4, 4, 4, 4, 4, 4, 4]])"
      ]
     },
     "execution_count": 342,
     "metadata": {},
     "output_type": "execute_result"
    }
   ],
   "source": [
    "n=int(input('gimme a number'))\n",
    "import numpy as np\n",
    "ls=np.full((2*n-1,2*n-1),n,dtype=int)\n",
    "for i in range(2*n-2,-1,-1):\n",
    "    for j in range(2*n-2,-1,-1):\n",
    "        top=i\n",
    "        bottom=j\n",
    "        rigth=2*(n-1)-j\n",
    "        left=2*(n-1)-i\n",
    "        ls[i][j]-=min(min(top,bottom),min(rigth,left))\n",
    "ls\n"
   ]
  },
  {
   "cell_type": "code",
   "execution_count": 355,
   "id": "dcec0f41-ca84-46ad-927f-65282b19fb2a",
   "metadata": {},
   "outputs": [
    {
     "name": "stdin",
     "output_type": "stream",
     "text": [
      "gimme a number 4\n"
     ]
    },
    {
     "name": "stdout",
     "output_type": "stream",
     "text": [
      "4444444\n",
      "4333334\n",
      "4322234\n",
      "4321234\n",
      "4322234\n",
      "4333334\n",
      "4444444\n"
     ]
    }
   ],
   "source": [
    "n=int(input('gimme a number'))\n",
    "for i in range(2*n-2,-1,-1):\n",
    "    for j in range(2*n-2,-1,-1):\n",
    "        top=i\n",
    "        bottom=j\n",
    "        rigt=2*(n-1)-j\n",
    "        lft=2*(n-1)-i\n",
    "        print(n-min(top,bottom,rigt,lft),end='')\n",
    "    print('')\n",
    "        "
   ]
  },
  {
   "cell_type": "code",
   "execution_count": 352,
   "id": "6e99b311-2ea6-4b72-8593-d26ed03e747a",
   "metadata": {},
   "outputs": [
    {
     "data": {
      "text/plain": [
       "array([[0, 0, 0, 0, 0, 0, 0, 0, 0],\n",
       "       [0, 0, 0, 0, 0, 0, 0, 0, 0],\n",
       "       [0, 0, 0, 0, 0, 0, 0, 0, 0],\n",
       "       [0, 0, 0, 0, 0, 0, 0, 0, 0],\n",
       "       [0, 0, 0, 0, 0, 0, 0, 0, 0],\n",
       "       [0, 0, 0, 0, 0, 0, 0, 0, 0],\n",
       "       [0, 0, 0, 0, 0, 0, 0, 0, 0],\n",
       "       [0, 0, 0, 0, 0, 0, 0, 0, 0],\n",
       "       [0, 0, 0, 0, 0, 0, 0, 0, 0]])"
      ]
     },
     "execution_count": 352,
     "metadata": {},
     "output_type": "execute_result"
    }
   ],
   "source": [
    "import numpy as np\n",
    "ls=np.zeros((2*4+1,9),dtype=int)\n",
    "ls"
   ]
  },
  {
   "cell_type": "code",
   "execution_count": null,
   "id": "03e1c384-73c1-4f79-bf30-5de76ff7f766",
   "metadata": {},
   "outputs": [],
   "source": []
  }
 ],
 "metadata": {
  "kernelspec": {
   "display_name": "Python 3 (ipykernel)",
   "language": "python",
   "name": "python3"
  },
  "language_info": {
   "codemirror_mode": {
    "name": "ipython",
    "version": 3
   },
   "file_extension": ".py",
   "mimetype": "text/x-python",
   "name": "python",
   "nbconvert_exporter": "python",
   "pygments_lexer": "ipython3",
   "version": "3.11.7"
  }
 },
 "nbformat": 4,
 "nbformat_minor": 5
}
